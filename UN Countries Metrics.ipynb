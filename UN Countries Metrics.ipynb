{
 "cells": [
  {
   "cell_type": "code",
   "execution_count": 1,
   "id": "92dc41b7-a94b-4fc4-bd71-4371e186d00f",
   "metadata": {},
   "outputs": [
    {
     "data": {
      "text/plain": [
       "(194, 8)"
      ]
     },
     "execution_count": 1,
     "metadata": {},
     "output_type": "execute_result"
    }
   ],
   "source": [
    "import pandas as pd\n",
    "import numpy as np\n",
    "import seaborn as sns\n",
    "import matplotlib.pyplot as plt\n",
    "\n",
    "df = pd.read_csv(r'C:\\Users\\Kerry\\UN Countries Metrics 2025.csv')\n",
    "df.shape"
   ]
  },
  {
   "cell_type": "code",
   "execution_count": 2,
   "id": "ed369cd4-e368-445c-8475-f16a6d705c5b",
   "metadata": {},
   "outputs": [
    {
     "data": {
      "text/html": [
       "<div>\n",
       "<style scoped>\n",
       "    .dataframe tbody tr th:only-of-type {\n",
       "        vertical-align: middle;\n",
       "    }\n",
       "\n",
       "    .dataframe tbody tr th {\n",
       "        vertical-align: top;\n",
       "    }\n",
       "\n",
       "    .dataframe thead th {\n",
       "        text-align: right;\n",
       "    }\n",
       "</style>\n",
       "<table border=\"1\" class=\"dataframe\">\n",
       "  <thead>\n",
       "    <tr style=\"text-align: right;\">\n",
       "      <th></th>\n",
       "      <th>country_name</th>\n",
       "      <th>Population (in millions)</th>\n",
       "      <th>Nominal Gross Domestic Product (in USD)</th>\n",
       "      <th>Nominal GDP Per capita (in USD)</th>\n",
       "      <th>GDP Per capita PPP (in USD)</th>\n",
       "      <th>Human Development Index (HDI)</th>\n",
       "      <th>GINI</th>\n",
       "      <th>AREA (in Sq km)</th>\n",
       "    </tr>\n",
       "  </thead>\n",
       "  <tbody>\n",
       "    <tr>\n",
       "      <th>0</th>\n",
       "      <td>Afghanistan</td>\n",
       "      <td>41,454,761</td>\n",
       "      <td>$17.329 billion</td>\n",
       "      <td>411</td>\n",
       "      <td>2,174</td>\n",
       "      <td>0.496</td>\n",
       "      <td>35.2</td>\n",
       "      <td>652,867</td>\n",
       "    </tr>\n",
       "    <tr>\n",
       "      <th>1</th>\n",
       "      <td>Albania</td>\n",
       "      <td>2,402,113</td>\n",
       "      <td>$28.372 billion</td>\n",
       "      <td>10,526</td>\n",
       "      <td>23,404</td>\n",
       "      <td>0.810</td>\n",
       "      <td>33.0</td>\n",
       "      <td>28,748</td>\n",
       "    </tr>\n",
       "    <tr>\n",
       "      <th>2</th>\n",
       "      <td>Algeria</td>\n",
       "      <td>46,700,000</td>\n",
       "      <td>$266.78 billion</td>\n",
       "      <td>5,722</td>\n",
       "      <td>16,483</td>\n",
       "      <td>0.763</td>\n",
       "      <td>27.6</td>\n",
       "      <td>2,381,741</td>\n",
       "    </tr>\n",
       "    <tr>\n",
       "      <th>3</th>\n",
       "      <td>Andorra</td>\n",
       "      <td>87,486</td>\n",
       "      <td>$3.897 billion</td>\n",
       "      <td>44,900</td>\n",
       "      <td>69,146</td>\n",
       "      <td>0.913</td>\n",
       "      <td>40.0</td>\n",
       "      <td>467.63</td>\n",
       "    </tr>\n",
       "    <tr>\n",
       "      <th>4</th>\n",
       "      <td>Angola</td>\n",
       "      <td>39,040,039</td>\n",
       "      <td>$93.796 billion</td>\n",
       "      <td>2,432</td>\n",
       "      <td>7077</td>\n",
       "      <td>0.616</td>\n",
       "      <td>51.3</td>\n",
       "      <td>1,246,700</td>\n",
       "    </tr>\n",
       "  </tbody>\n",
       "</table>\n",
       "</div>"
      ],
      "text/plain": [
       "   country_name Population (in millions)  \\\n",
       "0   Afghanistan               41,454,761   \n",
       "1       Albania                2,402,113   \n",
       "2       Algeria               46,700,000   \n",
       "3       Andorra                   87,486   \n",
       "4        Angola               39,040,039   \n",
       "\n",
       "  Nominal Gross Domestic Product (in USD) Nominal GDP Per capita (in USD)  \\\n",
       "0                         $17.329 billion                             411   \n",
       "1                         $28.372 billion                          10,526   \n",
       "2                         $266.78 billion                           5,722   \n",
       "3                          $3.897 billion                          44,900   \n",
       "4                         $93.796 billion                           2,432   \n",
       "\n",
       "  GDP Per capita PPP (in USD)  Human Development Index (HDI)  GINI  \\\n",
       "0                       2,174                          0.496  35.2   \n",
       "1                      23,404                          0.810  33.0   \n",
       "2                      16,483                          0.763  27.6   \n",
       "3                      69,146                          0.913  40.0   \n",
       "4                        7077                          0.616  51.3   \n",
       "\n",
       "  AREA (in Sq km)  \n",
       "0         652,867  \n",
       "1          28,748  \n",
       "2       2,381,741  \n",
       "3          467.63  \n",
       "4       1,246,700  "
      ]
     },
     "execution_count": 2,
     "metadata": {},
     "output_type": "execute_result"
    }
   ],
   "source": [
    "df.head()"
   ]
  },
  {
   "cell_type": "code",
   "execution_count": 3,
   "id": "2dcebcb5-21d8-4d8a-8817-e36c5ec2fdda",
   "metadata": {},
   "outputs": [
    {
     "data": {
      "text/html": [
       "<div>\n",
       "<style scoped>\n",
       "    .dataframe tbody tr th:only-of-type {\n",
       "        vertical-align: middle;\n",
       "    }\n",
       "\n",
       "    .dataframe tbody tr th {\n",
       "        vertical-align: top;\n",
       "    }\n",
       "\n",
       "    .dataframe thead th {\n",
       "        text-align: right;\n",
       "    }\n",
       "</style>\n",
       "<table border=\"1\" class=\"dataframe\">\n",
       "  <thead>\n",
       "    <tr style=\"text-align: right;\">\n",
       "      <th></th>\n",
       "      <th>country_name</th>\n",
       "      <th>Population (in millions)</th>\n",
       "      <th>Nominal Gross Domestic Product (in USD)</th>\n",
       "      <th>Nominal GDP Per capita (in USD)</th>\n",
       "      <th>GDP Per capita PPP (in USD)</th>\n",
       "      <th>Human Development Index (HDI)</th>\n",
       "      <th>GINI</th>\n",
       "      <th>AREA (in Sq km)</th>\n",
       "    </tr>\n",
       "  </thead>\n",
       "  <tbody>\n",
       "    <tr>\n",
       "      <th>189</th>\n",
       "      <td>Venezuela</td>\n",
       "      <td>30,518,260</td>\n",
       "      <td>$92.210 billion</td>\n",
       "      <td>3,474</td>\n",
       "      <td>7,985</td>\n",
       "      <td>0.709</td>\n",
       "      <td>44.8</td>\n",
       "      <td>916,445</td>\n",
       "    </tr>\n",
       "    <tr>\n",
       "      <th>190</th>\n",
       "      <td>Vietnam</td>\n",
       "      <td>100,300,000</td>\n",
       "      <td>$465.814 billion</td>\n",
       "      <td>4,623</td>\n",
       "      <td>15,470</td>\n",
       "      <td>0.766</td>\n",
       "      <td>36.1</td>\n",
       "      <td>331,344.82</td>\n",
       "    </tr>\n",
       "    <tr>\n",
       "      <th>191</th>\n",
       "      <td>Yemen</td>\n",
       "      <td>41,385,529</td>\n",
       "      <td>$21.045 billion</td>\n",
       "      <td>617</td>\n",
       "      <td>2,053</td>\n",
       "      <td>0.470</td>\n",
       "      <td>36.7</td>\n",
       "      <td>455,503</td>\n",
       "    </tr>\n",
       "    <tr>\n",
       "      <th>192</th>\n",
       "      <td>Zambia</td>\n",
       "      <td>20,216,029</td>\n",
       "      <td>$29.536 billion</td>\n",
       "      <td>1,435</td>\n",
       "      <td>4,068</td>\n",
       "      <td>0.595</td>\n",
       "      <td>51.5</td>\n",
       "      <td>752,617</td>\n",
       "    </tr>\n",
       "    <tr>\n",
       "      <th>193</th>\n",
       "      <td>Zimbabwe</td>\n",
       "      <td>16,868,409</td>\n",
       "      <td>$32.424 billion</td>\n",
       "      <td>2,005</td>\n",
       "      <td>2,749</td>\n",
       "      <td>0.598</td>\n",
       "      <td>50.3</td>\n",
       "      <td>390,757</td>\n",
       "    </tr>\n",
       "  </tbody>\n",
       "</table>\n",
       "</div>"
      ],
      "text/plain": [
       "    country_name Population (in millions)  \\\n",
       "189    Venezuela               30,518,260   \n",
       "190      Vietnam              100,300,000   \n",
       "191        Yemen               41,385,529   \n",
       "192       Zambia               20,216,029   \n",
       "193     Zimbabwe               16,868,409   \n",
       "\n",
       "    Nominal Gross Domestic Product (in USD) Nominal GDP Per capita (in USD)  \\\n",
       "189                         $92.210 billion                           3,474   \n",
       "190                        $465.814 billion                           4,623   \n",
       "191                         $21.045 billion                             617   \n",
       "192                         $29.536 billion                           1,435   \n",
       "193                         $32.424 billion                           2,005   \n",
       "\n",
       "    GDP Per capita PPP (in USD)  Human Development Index (HDI)  GINI  \\\n",
       "189                       7,985                          0.709  44.8   \n",
       "190                      15,470                          0.766  36.1   \n",
       "191                       2,053                          0.470  36.7   \n",
       "192                       4,068                          0.595  51.5   \n",
       "193                       2,749                          0.598  50.3   \n",
       "\n",
       "    AREA (in Sq km)  \n",
       "189         916,445  \n",
       "190      331,344.82  \n",
       "191         455,503  \n",
       "192         752,617  \n",
       "193         390,757  "
      ]
     },
     "execution_count": 3,
     "metadata": {},
     "output_type": "execute_result"
    }
   ],
   "source": [
    "df.tail()"
   ]
  },
  {
   "cell_type": "code",
   "execution_count": 4,
   "id": "7a12f7f9-0767-4332-8410-86a0f05f054a",
   "metadata": {},
   "outputs": [
    {
     "name": "stdout",
     "output_type": "stream",
     "text": [
      "<class 'pandas.core.frame.DataFrame'>\n",
      "RangeIndex: 194 entries, 0 to 193\n",
      "Data columns (total 8 columns):\n",
      " #   Column                                   Non-Null Count  Dtype  \n",
      "---  ------                                   --------------  -----  \n",
      " 0   country_name                             194 non-null    object \n",
      " 1   Population (in millions)                 194 non-null    object \n",
      " 2   Nominal Gross Domestic Product (in USD)  194 non-null    object \n",
      " 3   Nominal GDP Per capita (in USD)          194 non-null    object \n",
      " 4   GDP Per capita PPP (in USD)              194 non-null    object \n",
      " 5   Human Development Index (HDI)            192 non-null    float64\n",
      " 6   GINI                                     174 non-null    float64\n",
      " 7   AREA (in Sq km)                          194 non-null    object \n",
      "dtypes: float64(2), object(6)\n",
      "memory usage: 12.3+ KB\n"
     ]
    }
   ],
   "source": [
    "df.info()"
   ]
  },
  {
   "cell_type": "code",
   "execution_count": 5,
   "id": "3024af0b-3be9-4b85-a8cf-38af359fb7a1",
   "metadata": {},
   "outputs": [
    {
     "data": {
      "text/html": [
       "<div>\n",
       "<style scoped>\n",
       "    .dataframe tbody tr th:only-of-type {\n",
       "        vertical-align: middle;\n",
       "    }\n",
       "\n",
       "    .dataframe tbody tr th {\n",
       "        vertical-align: top;\n",
       "    }\n",
       "\n",
       "    .dataframe thead th {\n",
       "        text-align: right;\n",
       "    }\n",
       "</style>\n",
       "<table border=\"1\" class=\"dataframe\">\n",
       "  <thead>\n",
       "    <tr style=\"text-align: right;\">\n",
       "      <th></th>\n",
       "      <th>Human Development Index (HDI)</th>\n",
       "      <th>GINI</th>\n",
       "    </tr>\n",
       "  </thead>\n",
       "  <tbody>\n",
       "    <tr>\n",
       "      <th>count</th>\n",
       "      <td>192.000000</td>\n",
       "      <td>174.000000</td>\n",
       "    </tr>\n",
       "    <tr>\n",
       "      <th>mean</th>\n",
       "      <td>0.736099</td>\n",
       "      <td>36.450920</td>\n",
       "    </tr>\n",
       "    <tr>\n",
       "      <th>std</th>\n",
       "      <td>0.159465</td>\n",
       "      <td>7.875269</td>\n",
       "    </tr>\n",
       "    <tr>\n",
       "      <th>min</th>\n",
       "      <td>0.000000</td>\n",
       "      <td>16.600000</td>\n",
       "    </tr>\n",
       "    <tr>\n",
       "      <th>25%</th>\n",
       "      <td>0.623500</td>\n",
       "      <td>30.712500</td>\n",
       "    </tr>\n",
       "    <tr>\n",
       "      <th>50%</th>\n",
       "      <td>0.755000</td>\n",
       "      <td>35.350000</td>\n",
       "    </tr>\n",
       "    <tr>\n",
       "      <th>75%</th>\n",
       "      <td>0.859000</td>\n",
       "      <td>40.975000</td>\n",
       "    </tr>\n",
       "    <tr>\n",
       "      <th>max</th>\n",
       "      <td>0.972000</td>\n",
       "      <td>63.000000</td>\n",
       "    </tr>\n",
       "  </tbody>\n",
       "</table>\n",
       "</div>"
      ],
      "text/plain": [
       "       Human Development Index (HDI)        GINI\n",
       "count                     192.000000  174.000000\n",
       "mean                        0.736099   36.450920\n",
       "std                         0.159465    7.875269\n",
       "min                         0.000000   16.600000\n",
       "25%                         0.623500   30.712500\n",
       "50%                         0.755000   35.350000\n",
       "75%                         0.859000   40.975000\n",
       "max                         0.972000   63.000000"
      ]
     },
     "execution_count": 5,
     "metadata": {},
     "output_type": "execute_result"
    }
   ],
   "source": [
    "df.describe()"
   ]
  },
  {
   "cell_type": "code",
   "execution_count": 6,
   "id": "86e5e09a-0740-488c-b3e2-25fcf4a51218",
   "metadata": {},
   "outputs": [
    {
     "data": {
      "text/plain": [
       "country_name                                0\n",
       "Population (in millions)                    0\n",
       "Nominal Gross Domestic Product (in USD)     0\n",
       "Nominal GDP Per capita (in USD)             0\n",
       "GDP Per capita PPP (in USD)                 0\n",
       "Human Development Index (HDI)               2\n",
       "GINI                                       20\n",
       "AREA (in Sq km)                             0\n",
       "dtype: int64"
      ]
     },
     "execution_count": 6,
     "metadata": {},
     "output_type": "execute_result"
    }
   ],
   "source": [
    "df.isnull().sum()"
   ]
  },
  {
   "cell_type": "code",
   "execution_count": 7,
   "id": "7d0e159a-1be3-4ed0-8820-6d361d36e5e4",
   "metadata": {},
   "outputs": [],
   "source": [
    "df['GINI'] = df['GINI'].fillna(df['GINI'].median())"
   ]
  },
  {
   "cell_type": "code",
   "execution_count": 8,
   "id": "322dab25-d8f0-4092-a839-9f2baee87e6a",
   "metadata": {},
   "outputs": [],
   "source": [
    "df['Human Development Index (HDI)'] = df['Human Development Index (HDI)'].fillna(df['Human Development Index (HDI)'].median())"
   ]
  },
  {
   "cell_type": "code",
   "execution_count": 9,
   "id": "8e1304ac-51ce-4ebf-8c8c-ae7ea7c3111d",
   "metadata": {},
   "outputs": [
    {
     "data": {
      "text/plain": [
       "0"
      ]
     },
     "execution_count": 9,
     "metadata": {},
     "output_type": "execute_result"
    }
   ],
   "source": [
    "df.duplicated().sum()"
   ]
  },
  {
   "cell_type": "code",
   "execution_count": 11,
   "id": "8baeb5f6-d973-4103-be5b-deeb929dba5c",
   "metadata": {},
   "outputs": [
    {
     "name": "stdout",
     "output_type": "stream",
     "text": [
      "  Nominal Gross Domestic Product (in USD)  Nominal_GDP_Numeric\n",
      "0                         $17.329 billion         1.732900e+10\n",
      "1                         $28.372 billion         2.837200e+10\n",
      "2                         $266.78 billion         2.667800e+11\n",
      "3                          $3.897 billion         3.897000e+09\n",
      "4                         $93.796 billion         9.379600e+10\n"
     ]
    }
   ],
   "source": [
    "# Converting srtings to numbers\n",
    "def convert_gdp(value):\n",
    "    if pd.isnull(value):\n",
    "        return None\n",
    "    value = value.replace(\"$\", \"\").strip().lower()\n",
    "    if \"billion\" in value:\n",
    "        return float(value.replace(\"billion\", \"\").strip()) * 1e9\n",
    "    elif \"million\" in value:\n",
    "        return float(value.replace(\"million\", \"\").strip()) * 1e6\n",
    "    elif \"trillion\" in value:\n",
    "        return float(value.replace(\"trillion\", \"\").strip()) * 1e12\n",
    "    else:\n",
    "        try:\n",
    "            return float(value)\n",
    "        except:\n",
    "            return None\n",
    "\n",
    "# Apply the function\n",
    "df[\"Nominal_GDP_Numeric\"] = df[\"Nominal Gross Domestic Product (in USD)\"].apply(convert_gdp)\n",
    "\n",
    "# Check result\n",
    "print(df[[\"Nominal Gross Domestic Product (in USD)\", \"Nominal_GDP_Numeric\"]].head())"
   ]
  },
  {
   "cell_type": "code",
   "execution_count": 13,
   "id": "34c1808d-3153-495e-8528-daec731dde04",
   "metadata": {},
   "outputs": [
    {
     "data": {
      "image/png": "[encoded data removed]",
      "text/plain": [
       "<Figure size 600x600 with 2 Axes>"
      ]
     },
     "metadata": {},
     "output_type": "display_data"
    }
   ],
   "source": [
    "plt.figure(figsize=(6, 6))\n",
    "sns.heatmap(df.corr(numeric_only=True), annot=True, cmap='coolwarm', fmt=\".2f\")\n",
    "plt.title(\"Correlation Between Numeric Features\")\n",
    "plt.show()"
   ]
  },
  {
   "cell_type": "code",
   "execution_count": 15,
   "id": "ff17640a-59cd-4d4c-9411-0d470e83b974",
   "metadata": {},
   "outputs": [
    {
     "data": {
      "image/png": "[encoded data removed]",
      "text/plain": [
       "<Figure size 1200x400 with 1 Axes>"
      ]
     },
     "metadata": {},
     "output_type": "display_data"
    }
   ],
   "source": [
    "plt.figure(figsize=(12,4))\n",
    "sns.boxplot(x=df['Nominal_GDP_Numeric'])\n",
    "plt.title(\"Boxplot of Nominal GDP (USD)\")\n",
    "plt.xlabel(\"Nominal GDP (USD)\")\n",
    "plt.ticklabel_format(style='plain', axis='x')\n",
    "plt.show()"
   ]
  },
  {
   "cell_type": "code",
   "execution_count": 17,
   "id": "080c528b-def0-471a-bf26-5c41111f3d62",
   "metadata": {},
   "outputs": [
    {
     "name": "stderr",
     "output_type": "stream",
     "text": [
      "C:\\Users\\Kerry\\AppData\\Local\\Temp\\ipykernel_9768\\1326046013.py:4: FutureWarning: \n",
      "\n",
      "Passing `palette` without assigning `hue` is deprecated and will be removed in v0.14.0. Assign the `y` variable to `hue` and set `legend=False` for the same effect.\n",
      "\n",
      "  sns.barplot(data=top_gdp, x='Nominal_GDP_Numeric', y='country_name', palette='viridis')\n"
     ]
    },
    {
     "data": {
      "image/png": "[encoded data removed]",
      "text/plain": [
       "<Figure size 1200x600 with 1 Axes>"
      ]
     },
     "metadata": {},
     "output_type": "display_data"
    }
   ],
   "source": [
    "top_gdp = df[['country_name', 'Nominal_GDP_Numeric']].dropna().sort_values(by='Nominal_GDP_Numeric', ascending=False).head(10)\n",
    "\n",
    "plt.figure(figsize=(12,6))\n",
    "sns.barplot(data=top_gdp, x='Nominal_GDP_Numeric', y='country_name', palette='viridis')\n",
    "plt.title(\"Top 10 Countries by Nominal GDP\")\n",
    "plt.xlabel(\"Nominal GDP (USD)\")\n",
    "plt.ylabel(\"Country\")\n",
    "plt.ticklabel_format(style='plain', axis='x')\n",
    "plt.show()"
   ]
  },
  {
   "cell_type": "code",
   "execution_count": null,
   "id": "93d2d31b-7bf5-4b48-b31e-b286b8cd9d0c",
   "metadata": {},
   "outputs": [],
   "source": []
  }
 ],
 "metadata": {
  "kernelspec": {
   "display_name": "Python 3 (ipykernel)",
   "language": "python",
   "name": "python3"
  },
  "language_info": {
   "codemirror_mode": {
    "name": "ipython",
    "version": 3
   },
   "file_extension": ".py",
   "mimetype": "text/x-python",
   "name": "python",
   "nbconvert_exporter": "python",
   "pygments_lexer": "ipython3",
   "version": "3.12.7"
  }
 },
 "nbformat": 4,
 "nbformat_minor": 5
}
